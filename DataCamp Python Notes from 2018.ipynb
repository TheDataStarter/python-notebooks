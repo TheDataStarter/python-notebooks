{
 "cells": [
  {
   "cell_type": "markdown",
   "id": "palestinian-saying",
   "metadata": {},
   "source": [
    "# Dave Ainscough study notes - 2018\n",
    "Introduction to Python for Data Science\n",
    "https://www.datacamp.com/courses/intro-to-python-for-data-science\n",
    "\n",
    "Some basic operations on strings and lists"
   ]
  },
  {
   "cell_type": "code",
   "execution_count": 1,
   "id": "banned-battle",
   "metadata": {},
   "outputs": [
    {
     "name": "stdout",
     "output_type": "stream",
     "text": [
      "My list now reads: ['something', 'something_else', 'other_thing', 'more', 'stuff']\n",
      "My original list now reads: ['something', 'something_else', 'other_thing', 'more', 'stuff']\n",
      "The list copy now reads: ['something', 'something_else', 'other_thing', 'more', 'stuff', 'something', 'something_else', 'other_thing', 'more', 'stuff']\n",
      "\n",
      "\n",
      "Copied list is now in the order of: ['stuff', 'stuff', 'something_else', 'something_else', 'something', 'something', 'other_thing', 'other_thing', 'more', 'more']\n",
      "\n",
      "\n",
      "Joined list reads: ['something', 'something_else', 'other_thing', 'more', 'stuff', 'stuff', 'stuff', 'something_else', 'something_else', 'something', 'something', 'other_thing', 'other_thing', 'more', 'more']\n"
     ]
    }
   ],
   "source": [
    "# Python Lists\n",
    "example_list = ['something','something_else','other_thing']   # sample list\n",
    "\n",
    "# add an item to a Python list using the + operator\n",
    "example_list = example_list + ['more','stuff']\n",
    "print('My list now reads: ', end='')\n",
    "print(example_list)\n",
    "\n",
    "# copying the name of a list only copies the reference to the list - list will still be changed in place\n",
    "# anything that edits an item in the list will update the list, regardless of which reference you use to access it\n",
    "# to create a copy of the list, use the list() function\n",
    "list_copy = list(example_list)\n",
    "\n",
    "# you can do some (very limited) mathematical things to Python lists - for anything more complex, use numpy arrays\n",
    "# double a list (which just doubles the number of entries with duplicates)\n",
    "\n",
    "list_copy = list_copy * 2\n",
    "print('My original list now reads: ', end='')\n",
    "print(example_list)\n",
    "print('The list copy now reads: ', end='')\n",
    "print(list_copy)\n",
    "print('\\n')\n",
    "\n",
    "# Because Python lists are ordered, you can meaningfully sort the list in place\n",
    "list_copy = sorted(list_copy, reverse=True)\n",
    "# reverse=True sorts in descening order - leave this out to sort in ascending order (note Python's handling of caps vs lowercase)\n",
    "print('Copied list is now in the order of: ', end='')\n",
    "print(list_copy)\n",
    "print('\\n')\n",
    "\n",
    "# Easy to concatanate two lists:\n",
    "joined_list = example_list + list_copy\n",
    "print('Joined list reads: ', end='')\n",
    "print(joined_list)"
   ]
  },
  {
   "cell_type": "code",
   "execution_count": 2,
   "id": "better-ivory",
   "metadata": {},
   "outputs": [
    {
     "name": "stdout",
     "output_type": "stream",
     "text": [
      "List in uppercase looks like: HERE'S A RANDOM STRING TO PLAY WITH THAT INCLUDES AN ESCAPED CHARACTER\n",
      "\n",
      "\n",
      "There are 8 letter a's in this string\n",
      "\n",
      "\n",
      "The index of 'something_else' is: 1\n",
      "\n",
      "\n",
      "Addended list is now: ['something', 'something_else', 'other_thing', 'heres_more']\n",
      "\n",
      "\n",
      "Reversed list is now: ['heres_more', 'other_thing', 'something_else', 'something']\n",
      "\n",
      "\n"
     ]
    }
   ],
   "source": [
    "# Python Methods\n",
    "example_string = 'Here\\'s a random string to play with that includes an escaped character'    # sample string\n",
    "\n",
    "# .upper() method converts strings to uppercase\n",
    "upper_string = example_string.upper()\n",
    "print('List in uppercase looks like: ', end='')\n",
    "print(upper_string)\n",
    "print('\\n')\n",
    "\n",
    "# also pretty easy to count a specific character, if that's a thing you want to do?\n",
    "no_of_as = example_string.count('a')\n",
    "print('There are ' + str(no_of_as) + ' letter a\\'s in this string')\n",
    "print('\\n')\n",
    "\n",
    "# also easy to use methods on lists\n",
    "example_list = ['something','something_else','other_thing']   # sample list\n",
    "\n",
    "# how to get the index of a particular value\n",
    "print('The index of \\'something_else\\' is: ' + str(example_list.index('something_else')))\n",
    "print('\\n')\n",
    "\n",
    "# another way to add new values to a list\n",
    "example_list.append('heres_more')\n",
    "print('Addended list is now: ', end='')\n",
    "print(example_list)\n",
    "print('\\n')\n",
    "\n",
    "# or to reverse the order of the list\n",
    "example_list.reverse()\n",
    "print('Reversed list is now: ', end='')\n",
    "print(example_list)\n",
    "print('\\n')"
   ]
  },
  {
   "cell_type": "markdown",
   "id": "biblical-senate",
   "metadata": {},
   "source": [
    "## Numpy arrays"
   ]
  },
  {
   "cell_type": "code",
   "execution_count": 3,
   "id": "specified-grove",
   "metadata": {},
   "outputs": [
    {
     "name": "stdout",
     "output_type": "stream",
     "text": [
      "Here is our list: [5, 6, 3, 2, 5, 7, 5, 7, 4, 7, 4, 7, 8, 4, 4, 4, 2, 9, 0]\n",
      "and now our numpy array: [5 6 3 2 5 7 5 7 4 7 4 7 8 4 4 4 2 9 0]\n",
      "\n",
      "\n",
      "Here is our list: [5, 6, 3, 2, 5, 7, 5, 7, 4, 7, 4, 7, 8, 4, 4, 4, 2, 9, 0, 5, 6, 3, 2, 5, 7, 5, 7, 4, 7, 4, 7, 8, 4, 4, 4, 2, 9, 0]\n",
      "and now our numpy array: [10 12  6  4 10 14 10 14  8 14  8 14 16  8  8  8  4 18  0]\n",
      "\n",
      "\n",
      "My weird new array looks like: [3.33333333 4.         2.         1.33333333 3.33333333 4.66666667\n",
      " 3.33333333 4.66666667 2.66666667 4.66666667 2.66666667 4.66666667\n",
      " 5.33333333 2.66666667 2.66666667 2.66666667 1.33333333 6.\n",
      " 0.        ]\n",
      "...and the merged array looks like: [13.33333333 16.          8.          5.33333333 13.33333333 18.66666667\n",
      " 13.33333333 18.66666667 10.66666667 18.66666667 10.66666667 18.66666667\n",
      " 21.33333333 10.66666667 10.66666667 10.66666667  5.33333333 24.\n",
      "  0.        ]\n",
      "\n",
      "\n",
      "The elements of the array over ten is [ True  True False False  True  True  True  True  True  True  True  True\n",
      "  True  True  True  True False  True False]\n",
      "The subset of the merged array over ten is [13.33333333 16.         13.33333333 18.66666667 13.33333333 18.66666667\n",
      " 10.66666667 18.66666667 10.66666667 18.66666667 21.33333333 10.66666667\n",
      " 10.66666667 10.66666667 24.        ]\n",
      "\n",
      "\n",
      "The ninth element of the array is 18.666666666666668\n",
      "The 6th to 8th elements of the array are [18.66666667 13.33333333 18.66666667]\n"
     ]
    }
   ],
   "source": [
    "# numpy arrays allow for fast and effecient mathematical operations on every item of a list (1D numpy array)\n",
    "# also handles 2D arrays, but not as elegantly as pandas (built on numpy). numpy extensively used in CV transformations, but\n",
    "# probably less useful than pandas dataframes on a day-to-day basis. Subject to change as I learn more!\n",
    "import numpy as np\n",
    "\n",
    "# I'll create a sample list of integers to demonstrate\n",
    "ex_list = [5,6,3,2,5,7,5,7,4,7,4,7,8,4,4,4,2,9,0]\n",
    "\n",
    "# convert this list into a numpy array\n",
    "np_array = np.array(ex_list)\n",
    "print('Here is our list: ', end='')\n",
    "print(ex_list)\n",
    "print('and now our numpy array: ', end='')\n",
    "print(np_array)\n",
    "print('\\n')\n",
    "\n",
    "# now, let's multiply both by two\n",
    "ex_list = ex_list * 2\n",
    "np_array = np_array * 2\n",
    "print('Here is our list: ', end='')\n",
    "print(ex_list)\n",
    "print('and now our numpy array: ', end='')\n",
    "print(np_array)\n",
    "print('\\n')\n",
    "# as we saw before, multiplying a list just makes duplicate values in a longer list. Numpy array did element operation and \n",
    "# multiplied each element in the array. Useful!\n",
    "\n",
    "# unlike copying lists (using list()), numpy has a copy method\n",
    "second_array = np.copy(np_array)\n",
    "\n",
    "# it's also easy to do mathematical operations on multiple numpy arrays - examples are assuming lists of same size where each\n",
    "# corresponding index refers to the same object\n",
    "# first, I'll edit the second_array a little so it does something useful\n",
    "second_array = second_array/3\n",
    "print('My weird new array looks like: ', end='')\n",
    "print(second_array)\n",
    "merged_array = np_array + second_array\n",
    "print('...and the merged array looks like: ', end='')\n",
    "print(merged_array)\n",
    "print('\\n')\n",
    "\n",
    "# it's also different to subset numpy arrays - will return a Boolean array that meets the criteria, can then use normal []\n",
    "# notation to subset (or whatever else you want to do)\n",
    "third_array = merged_array > 10\n",
    "print('The elements of the array over ten is ', end='')\n",
    "print(third_array)\n",
    "print('The subset of the merged array over ten is ', end='')\n",
    "print(merged_array[third_array])\n",
    "print('\\n')\n",
    "\n",
    "# can also do normal select/slice operations, like you would on a Python list\n",
    "print('The ninth element of the array is ' + str(merged_array[9]))\n",
    "print('The 6th to 8th elements of the array are ' + str(merged_array[5:8]))"
   ]
  },
  {
   "cell_type": "markdown",
   "id": "patent-february",
   "metadata": {},
   "source": [
    "## And 2d numpy arrays (which might be less generally useful than pandas dataframes?)"
   ]
  },
  {
   "cell_type": "code",
   "execution_count": 4,
   "id": "figured-competition",
   "metadata": {},
   "outputs": [
    {
     "name": "stdout",
     "output_type": "stream",
     "text": [
      "<class 'numpy.ndarray'>\n",
      "(4, 2)\n",
      "\n",
      "\n",
      "One element of this array is 98.5\n",
      "The second column of this array is [ 78.4 102.7  98.5  75.2]\n",
      "Part of the first row of this array is [180.   78.4]\n",
      "\n",
      "\n",
      "The mean of the first column of this array is 198.25\n",
      "The median of the second row of this array is 158.85\n",
      "The standard deviation of the first column of this array is 14.635146053251399\n",
      "\n",
      "\n",
      "The correlation between the two columns is [[1.         0.95865738]\n",
      " [0.95865738 1.        ]]\n",
      "\n",
      "\n"
     ]
    }
   ],
   "source": [
    "# Import numpy\n",
    "import numpy as np\n",
    "\n",
    "# You can create 2d numpy arrays by passing it a list of lists (a Python list where elements of the list are themselves lists)\n",
    "# Going to shamelessly re-use their example list of lists\n",
    "baseball = [[180, 78.4], [215, 102.7], [210, 98.5],[188, 75.2]]\n",
    "\n",
    "# cast this list of lists as a 2d numpy array\n",
    "np_baseball = np.array(baseball)\n",
    "\n",
    "# Lets check the type and shape of our new 2d array\n",
    "print(type(np_baseball))\n",
    "print(np_baseball.shape)\n",
    "print('\\n')\n",
    "\n",
    "# can subset 2d arrays using [] notation, in the format of [row, column]\n",
    "print('One element of this array is ', end='')\n",
    "print(np_baseball[2,1])\n",
    "print('The second column of this array is ', end='')\n",
    "print(np_baseball[:,1])\n",
    "print('Part of the first row of this array is ', end='')\n",
    "print(np_baseball[0, 0:2])\n",
    "print('\\n')\n",
    "\n",
    "# numpy also makes it easy to do some summary stats on parts of your array\n",
    "print('The mean of the first column of this array is ' + str(np.mean(np_baseball[:,0])))\n",
    "print('The median of the second row of this array is ' + str(np.median(np_baseball[1,:])))\n",
    "print('The standard deviation of the first column of this array is ' + str(np.std(np_baseball[:,0])))\n",
    "print('\\n')\n",
    "print('The correlation between the two columns is ' + str(np.corrcoef(np_baseball[:,0] , np_baseball[:,1])))\n",
    "print('\\n')"
   ]
  },
  {
   "cell_type": "markdown",
   "id": "adult-resource",
   "metadata": {},
   "source": [
    "# Intermediate Python for Data Science"
   ]
  },
  {
   "cell_type": "markdown",
   "id": "leading-windows",
   "metadata": {},
   "source": [
    "https://www.datacamp.com/courses/intermediate-python-for-data-science"
   ]
  },
  {
   "cell_type": "markdown",
   "id": "super-opera",
   "metadata": {},
   "source": [
    "## Straight into matplotlib"
   ]
  },
  {
   "cell_type": "code",
   "execution_count": 1,
   "id": "selective-egypt",
   "metadata": {},
   "outputs": [
    {
     "name": "stdout",
     "output_type": "stream",
     "text": [
      "Simple plot:\n"
     ]
    },
    {
     "data": {
      "image/png": "[encoded data removed]",
      "text/plain": [
       "<Figure size 432x288 with 1 Axes>"
      ]
     },
     "metadata": {
      "needs_background": "light"
     },
     "output_type": "display_data"
    },
    {
     "name": "stdout",
     "output_type": "stream",
     "text": [
      "\n",
      "\n",
      "Simple scatter plot:\n"
     ]
    },
    {
     "data": {
      "image/png": "[encoded data removed]",
      "text/plain": [
       "<Figure size 432x288 with 1 Axes>"
      ]
     },
     "metadata": {
      "needs_background": "light"
     },
     "output_type": "display_data"
    },
    {
     "name": "stdout",
     "output_type": "stream",
     "text": [
      "\n",
      "\n",
      "Simple histogram:\n"
     ]
    },
    {
     "data": {
      "image/png": "[encoded data removed]",
      "text/plain": [
       "<Figure size 432x288 with 1 Axes>"
      ]
     },
     "metadata": {
      "needs_background": "light"
     },
     "output_type": "display_data"
    },
    {
     "name": "stdout",
     "output_type": "stream",
     "text": [
      "\n",
      "\n",
      "Historgram with 20 bins:\n"
     ]
    },
    {
     "data": {
      "image/png": "[encoded data removed]",
      "text/plain": [
       "<Figure size 432x288 with 1 Axes>"
      ]
     },
     "metadata": {
      "needs_background": "light"
     },
     "output_type": "display_data"
    },
    {
     "name": "stdout",
     "output_type": "stream",
     "text": [
      "\n",
      "\n",
      "Same plot with title and labels\n"
     ]
    },
    {
     "data": {
      "image/png": "[encoded data removed]",
      "text/plain": [
       "<Figure size 432x288 with 1 Axes>"
      ]
     },
     "metadata": {
      "needs_background": "light"
     },
     "output_type": "display_data"
    },
    {
     "name": "stdout",
     "output_type": "stream",
     "text": [
      "\n",
      "\n",
      "Scatter plot showing use of size:\n"
     ]
    },
    {
     "ename": "ValueError",
     "evalue": "s must be a scalar, or the same size as x and y",
     "output_type": "error",
     "traceback": [
      "\u001b[0;31m---------------------------------------------------------------------------\u001b[0m",
      "\u001b[0;31mValueError\u001b[0m                                Traceback (most recent call last)",
      "\u001b[0;32m<ipython-input-1-a0ad7a41f45f>\u001b[0m in \u001b[0;36m<module>\u001b[0;34m\u001b[0m\n\u001b[1;32m    116\u001b[0m \u001b[0mnp_pop\u001b[0m \u001b[0;34m=\u001b[0m \u001b[0mnp\u001b[0m\u001b[0;34m.\u001b[0m\u001b[0marray\u001b[0m\u001b[0;34m(\u001b[0m\u001b[0mpop\u001b[0m\u001b[0;34m)\u001b[0m\u001b[0;34m\u001b[0m\u001b[0;34m\u001b[0m\u001b[0m\n\u001b[1;32m    117\u001b[0m \u001b[0mnp_pop\u001b[0m \u001b[0;34m=\u001b[0m \u001b[0mnp_pop\u001b[0m \u001b[0;34m*\u001b[0m \u001b[0;36m2\u001b[0m\u001b[0;34m\u001b[0m\u001b[0;34m\u001b[0m\u001b[0m\n\u001b[0;32m--> 118\u001b[0;31m \u001b[0mplt\u001b[0m\u001b[0;34m.\u001b[0m\u001b[0mscatter\u001b[0m\u001b[0;34m(\u001b[0m\u001b[0mgdp_cap\u001b[0m\u001b[0;34m,\u001b[0m \u001b[0mlife_exp\u001b[0m\u001b[0;34m,\u001b[0m \u001b[0ms\u001b[0m \u001b[0;34m=\u001b[0m \u001b[0mnp_pop\u001b[0m\u001b[0;34m)\u001b[0m                \u001b[0;31m# s argument means to use population to size each point of data\u001b[0m\u001b[0;34m\u001b[0m\u001b[0;34m\u001b[0m\u001b[0m\n\u001b[0m\u001b[1;32m    119\u001b[0m \u001b[0mplt\u001b[0m\u001b[0;34m.\u001b[0m\u001b[0mxscale\u001b[0m\u001b[0;34m(\u001b[0m\u001b[0;34m'log'\u001b[0m\u001b[0;34m)\u001b[0m                                         \u001b[0;31m# use logarithmic scale on x axis (rather than linear)\u001b[0m\u001b[0;34m\u001b[0m\u001b[0;34m\u001b[0m\u001b[0m\n\u001b[1;32m    120\u001b[0m \u001b[0mplt\u001b[0m\u001b[0;34m.\u001b[0m\u001b[0mxlabel\u001b[0m\u001b[0;34m(\u001b[0m\u001b[0;34m'GDP per Capita [in USD]'\u001b[0m\u001b[0;34m)\u001b[0m\u001b[0;34m\u001b[0m\u001b[0;34m\u001b[0m\u001b[0m\n",
      "\u001b[0;32m/srv/conda/envs/notebook/lib/python3.7/site-packages/matplotlib/pyplot.py\u001b[0m in \u001b[0;36mscatter\u001b[0;34m(x, y, s, c, marker, cmap, norm, vmin, vmax, alpha, linewidths, verts, edgecolors, plotnonfinite, data, **kwargs)\u001b[0m\n\u001b[1;32m   2893\u001b[0m         \u001b[0mverts\u001b[0m\u001b[0;34m=\u001b[0m\u001b[0mverts\u001b[0m\u001b[0;34m,\u001b[0m \u001b[0medgecolors\u001b[0m\u001b[0;34m=\u001b[0m\u001b[0medgecolors\u001b[0m\u001b[0;34m,\u001b[0m\u001b[0;34m\u001b[0m\u001b[0;34m\u001b[0m\u001b[0m\n\u001b[1;32m   2894\u001b[0m         \u001b[0mplotnonfinite\u001b[0m\u001b[0;34m=\u001b[0m\u001b[0mplotnonfinite\u001b[0m\u001b[0;34m,\u001b[0m\u001b[0;34m\u001b[0m\u001b[0;34m\u001b[0m\u001b[0m\n\u001b[0;32m-> 2895\u001b[0;31m         **({\"data\": data} if data is not None else {}), **kwargs)\n\u001b[0m\u001b[1;32m   2896\u001b[0m     \u001b[0msci\u001b[0m\u001b[0;34m(\u001b[0m\u001b[0m__ret\u001b[0m\u001b[0;34m)\u001b[0m\u001b[0;34m\u001b[0m\u001b[0;34m\u001b[0m\u001b[0m\n\u001b[1;32m   2897\u001b[0m     \u001b[0;32mreturn\u001b[0m \u001b[0m__ret\u001b[0m\u001b[0;34m\u001b[0m\u001b[0;34m\u001b[0m\u001b[0m\n",
      "\u001b[0;32m/srv/conda/envs/notebook/lib/python3.7/site-packages/matplotlib/__init__.py\u001b[0m in \u001b[0;36minner\u001b[0;34m(ax, data, *args, **kwargs)\u001b[0m\n\u001b[1;32m   1445\u001b[0m     \u001b[0;32mdef\u001b[0m \u001b[0minner\u001b[0m\u001b[0;34m(\u001b[0m\u001b[0max\u001b[0m\u001b[0;34m,\u001b[0m \u001b[0;34m*\u001b[0m\u001b[0margs\u001b[0m\u001b[0;34m,\u001b[0m \u001b[0mdata\u001b[0m\u001b[0;34m=\u001b[0m\u001b[0;32mNone\u001b[0m\u001b[0;34m,\u001b[0m \u001b[0;34m**\u001b[0m\u001b[0mkwargs\u001b[0m\u001b[0;34m)\u001b[0m\u001b[0;34m:\u001b[0m\u001b[0;34m\u001b[0m\u001b[0;34m\u001b[0m\u001b[0m\n\u001b[1;32m   1446\u001b[0m         \u001b[0;32mif\u001b[0m \u001b[0mdata\u001b[0m \u001b[0;32mis\u001b[0m \u001b[0;32mNone\u001b[0m\u001b[0;34m:\u001b[0m\u001b[0;34m\u001b[0m\u001b[0;34m\u001b[0m\u001b[0m\n\u001b[0;32m-> 1447\u001b[0;31m             \u001b[0;32mreturn\u001b[0m \u001b[0mfunc\u001b[0m\u001b[0;34m(\u001b[0m\u001b[0max\u001b[0m\u001b[0;34m,\u001b[0m \u001b[0;34m*\u001b[0m\u001b[0mmap\u001b[0m\u001b[0;34m(\u001b[0m\u001b[0msanitize_sequence\u001b[0m\u001b[0;34m,\u001b[0m \u001b[0margs\u001b[0m\u001b[0;34m)\u001b[0m\u001b[0;34m,\u001b[0m \u001b[0;34m**\u001b[0m\u001b[0mkwargs\u001b[0m\u001b[0;34m)\u001b[0m\u001b[0;34m\u001b[0m\u001b[0;34m\u001b[0m\u001b[0m\n\u001b[0m\u001b[1;32m   1448\u001b[0m \u001b[0;34m\u001b[0m\u001b[0m\n\u001b[1;32m   1449\u001b[0m         \u001b[0mbound\u001b[0m \u001b[0;34m=\u001b[0m \u001b[0mnew_sig\u001b[0m\u001b[0;34m.\u001b[0m\u001b[0mbind\u001b[0m\u001b[0;34m(\u001b[0m\u001b[0max\u001b[0m\u001b[0;34m,\u001b[0m \u001b[0;34m*\u001b[0m\u001b[0margs\u001b[0m\u001b[0;34m,\u001b[0m \u001b[0;34m**\u001b[0m\u001b[0mkwargs\u001b[0m\u001b[0;34m)\u001b[0m\u001b[0;34m\u001b[0m\u001b[0;34m\u001b[0m\u001b[0m\n",
      "\u001b[0;32m/srv/conda/envs/notebook/lib/python3.7/site-packages/matplotlib/cbook/deprecation.py\u001b[0m in \u001b[0;36mwrapper\u001b[0;34m(*inner_args, **inner_kwargs)\u001b[0m\n\u001b[1;32m    409\u001b[0m                          \u001b[0;32melse\u001b[0m \u001b[0mdeprecation_addendum\u001b[0m\u001b[0;34m,\u001b[0m\u001b[0;34m\u001b[0m\u001b[0;34m\u001b[0m\u001b[0m\n\u001b[1;32m    410\u001b[0m                 **kwargs)\n\u001b[0;32m--> 411\u001b[0;31m         \u001b[0;32mreturn\u001b[0m \u001b[0mfunc\u001b[0m\u001b[0;34m(\u001b[0m\u001b[0;34m*\u001b[0m\u001b[0minner_args\u001b[0m\u001b[0;34m,\u001b[0m \u001b[0;34m**\u001b[0m\u001b[0minner_kwargs\u001b[0m\u001b[0;34m)\u001b[0m\u001b[0;34m\u001b[0m\u001b[0;34m\u001b[0m\u001b[0m\n\u001b[0m\u001b[1;32m    412\u001b[0m \u001b[0;34m\u001b[0m\u001b[0m\n\u001b[1;32m    413\u001b[0m     \u001b[0;32mreturn\u001b[0m \u001b[0mwrapper\u001b[0m\u001b[0;34m\u001b[0m\u001b[0;34m\u001b[0m\u001b[0m\n",
      "\u001b[0;32m/srv/conda/envs/notebook/lib/python3.7/site-packages/matplotlib/axes/_axes.py\u001b[0m in \u001b[0;36mscatter\u001b[0;34m(self, x, y, s, c, marker, cmap, norm, vmin, vmax, alpha, linewidths, verts, edgecolors, plotnonfinite, **kwargs)\u001b[0m\n\u001b[1;32m   4446\u001b[0m         \u001b[0ms\u001b[0m \u001b[0;34m=\u001b[0m \u001b[0mnp\u001b[0m\u001b[0;34m.\u001b[0m\u001b[0mma\u001b[0m\u001b[0;34m.\u001b[0m\u001b[0mravel\u001b[0m\u001b[0;34m(\u001b[0m\u001b[0ms\u001b[0m\u001b[0;34m)\u001b[0m\u001b[0;34m\u001b[0m\u001b[0;34m\u001b[0m\u001b[0m\n\u001b[1;32m   4447\u001b[0m         \u001b[0;32mif\u001b[0m \u001b[0mlen\u001b[0m\u001b[0;34m(\u001b[0m\u001b[0ms\u001b[0m\u001b[0;34m)\u001b[0m \u001b[0;32mnot\u001b[0m \u001b[0;32min\u001b[0m \u001b[0;34m(\u001b[0m\u001b[0;36m1\u001b[0m\u001b[0;34m,\u001b[0m \u001b[0mx\u001b[0m\u001b[0;34m.\u001b[0m\u001b[0msize\u001b[0m\u001b[0;34m)\u001b[0m\u001b[0;34m:\u001b[0m\u001b[0;34m\u001b[0m\u001b[0;34m\u001b[0m\u001b[0m\n\u001b[0;32m-> 4448\u001b[0;31m             \u001b[0;32mraise\u001b[0m \u001b[0mValueError\u001b[0m\u001b[0;34m(\u001b[0m\u001b[0;34m\"s must be a scalar, or the same size as x and y\"\u001b[0m\u001b[0;34m)\u001b[0m\u001b[0;34m\u001b[0m\u001b[0;34m\u001b[0m\u001b[0m\n\u001b[0m\u001b[1;32m   4449\u001b[0m \u001b[0;34m\u001b[0m\u001b[0m\n\u001b[1;32m   4450\u001b[0m         \u001b[0mc\u001b[0m\u001b[0;34m,\u001b[0m \u001b[0mcolors\u001b[0m\u001b[0;34m,\u001b[0m \u001b[0medgecolors\u001b[0m \u001b[0;34m=\u001b[0m\u001b[0;31m \u001b[0m\u001b[0;31m\\\u001b[0m\u001b[0;34m\u001b[0m\u001b[0;34m\u001b[0m\u001b[0m\n",
      "\u001b[0;31mValueError\u001b[0m: s must be a scalar, or the same size as x and y"
     ]
    },
    {
     "data": {
      "image/png": "[encoded data removed]",
      "text/plain": [
       "<Figure size 432x288 with 1 Axes>"
      ]
     },
     "metadata": {
      "needs_background": "light"
     },
     "output_type": "display_data"
    }
   ],
   "source": [
    "# matplotlib seems to be the analogue of ggplot2 in R, at least in terms of scope - it's a library that lets you do easy, fast\n",
    "# and powerful plots of data. The Cleaning Data with Python course uses this extensively to do visual EDA for DQ issues\n",
    "\n",
    "# import the library\n",
    "import matplotlib.pyplot as plt\n",
    "\n",
    "\n",
    "# importing the example datasets from the course - shows global population -> future population predictions\n",
    "year = [1950, 1951, 1952, 1953, 1954, 1955, 1956, 1957, 1958, 1959, 1960, 1961, 1962, 1963, 1964, 1965, 1966, 1967, 1968, 1969, \n",
    "        1970, 1971, 1972, 1973, 1974, 1975, 1976, 1977, 1978, 1979, 1980, 1981, 1982, 1983, 1984, 1985, 1986, 1987, 1988, 1989, \n",
    "        1990, 1991, 1992, 1993, 1994, 1995, 1996, 1997, 1998, 1999, 2000, 2001, 2002, 2003, 2004, 2005, 2006, 2007, 2008, 2009, \n",
    "        2010, 2011, 2012, 2013, 2014, 2015, 2016, 2017, 2018, 2019, 2020, 2021, 2022, 2023, 2024, 2025, 2026, 2027, 2028, 2029, \n",
    "        2030, 2031, 2032, 2033, 2034, 2035, 2036, 2037, 2038, 2039, 2040, 2041, 2042, 2043, 2044, 2045, 2046, 2047, 2048, 2049, \n",
    "        2050, 2051, 2052, 2053, 2054, 2055, 2056, 2057, 2058, 2059, 2060, 2061, 2062, 2063, 2064, 2065, 2066, 2067, 2068, 2069, \n",
    "        2070, 2071, 2072, 2073, 2074, 2075, 2076, 2077, 2078, 2079, 2080, 2081, 2082, 2083, 2084, 2085, 2086, 2087, 2088, 2089, \n",
    "        2090, 2091, 2092, 2093, 2094, 2095, 2096, 2097, 2098, 2099, 2100]\n",
    "\n",
    "pop = [2.53, 2.57, 2.62, 2.67, 2.71, 2.76, 2.81, 2.86, 2.92, 2.97, 3.03, 3.08, 3.14, 3.2, 3.26, 3.33, 3.4, 3.47, 3.54, 3.62, \n",
    "        3.69, 3.77, 3.84, 3.92, 4.0, 4.07, 4.15, 4.22, 4.3, 4.37, 4.45, 4.53, 4.61, 4.69, 4.78, 4.86, 4.95, 5.05, 5.14, 5.23, \n",
    "        5.32, 5.41, 5.49, 5.58, 5.66, 5.74, 5.82, 5.9, 5.98, 6.05, 6.13, 6.2, 6.28, 6.36, 6.44, 6.51, 6.59, 6.67, 6.75, 6.83, \n",
    "        6.92, 7.0, 7.08, 7.16, 7.24, 7.32, 7.4, 7.48, 7.56, 7.64, 7.72, 7.79, 7.87, 7.94, 8.01, 8.08, 8.15, 8.22, 8.29, 8.36, \n",
    "        8.42, 8.49, 8.56, 8.62, 8.68, 8.74, 8.8, 8.86, 8.92, 8.98, 9.04, 9.09, 9.15, 9.2, 9.26, 9.31, 9.36, 9.41, 9.46, 9.5, \n",
    "        9.55, 9.6, 9.64, 9.68, 9.73, 9.77, 9.81, 9.85, 9.88, 9.92, 9.96, 9.99, 10.03, 10.06, 10.09, 10.13, 10.16, 10.19, 10.22, \n",
    "        10.25, 10.28, 10.31, 10.33, 10.36, 10.38, 10.41, 10.43, 10.46, 10.48, 10.5, 10.52, 10.55, 10.57, 10.59, 10.61, 10.63, \n",
    "        10.65, 10.66, 10.68, 10.7, 10.72, 10.73, 10.75, 10.77, 10.78, 10.79, 10.81, 10.82,10.83, 10.84, 10.85]\n",
    "\n",
    "gdp_cap = [974.5803384, 5937.029525999998, 6223.367465, 4797.231267, 12779.37964, 34435.367439999995, 36126.4927, 29796.04834, \n",
    "             1391.253792, 33692.60508, 1441.284873, 3822.137084, 7446.298803, 12569.85177, 9065.800825, 10680.79282, \n",
    "             1217.032994, 430.0706916, 1713.778686, 2042.09524, 36319.23501, 706.016537, 1704.063724, 13171.63885, \n",
    "             4959.114854, 7006.580419, 986.1478792, 277.5518587, 3632.557798, 9645.06142, 1544.750112, \n",
    "             14619.222719999998, 8948.102923, 22833.30851, 35278.41874, 2082.4815670000007, 6025.3747520000015, \n",
    "             6873.262326000001, 5581.180998, 5728.353514, 12154.08975, 641.3695236000002, 690.8055759, 33207.0844, 30470.0167, \n",
    "             13206.48452, 752.7497265, 32170.37442, 1327.60891, 27538.41188, 5186.050003, 942.6542111, 579.2317429999998, \n",
    "             1201.637154, 3548.3308460000007, 39724.97867, 18008.94444, 36180.78919, 2452.210407, 3540.651564, 11605.71449, \n",
    "             4471.061906, 40675.99635, 25523.2771, 28569.7197, 7320.8802620000015, 31656.06806, 4519.461171, 1463.249282, \n",
    "             1593.06548, 23348.139730000006, 47306.98978, 10461.05868,1569.331442, 414.5073415, 12057.49928, 1044.770126, \n",
    "             759.3499101, 12451.6558, 1042.581557, 1803.151496, 10956.99112, 11977.57496, 3095.7722710000007, 9253.896111, \n",
    "             3820.17523, 823.6856205, 944.0, 4811.060429, 1091.359778, 36797.93332, 25185.00911, 2749.320965, 619.6768923999998, \n",
    "             2013.977305, 49357.19017, 22316.19287, 2605.94758, 9809.185636, 4172.838464, 7408.905561, 3190.481016, \n",
    "             15389.924680000002, 20509.64777, 19328.70901, 7670.122558, 10808.47561, 863.0884639000002, 1598.435089, 21654.83194,\n",
    "             1712.472136, 9786.534714, 862.5407561000002, 47143.17964, 18678.31435, 25768.25759, 926.1410683, 9269.657808, \n",
    "             28821.0637, 3970.095407, 2602.394995, 4513.480643, 33859.74835, 37506.41907, 4184.548089, 28718.27684, 1107.482182, \n",
    "             7458.396326999998, 882.9699437999999, 18008.50924, 7092.923025, 8458.276384, 1056.380121, 33203.26128, 42951.65309, \n",
    "             10611.46299, 11415.80569, 2441.576404, 3025.349798, 2280.769906, 1271.211593, 469.70929810000007]\n",
    "\n",
    "life_exp = [43.828, 76.423, 72.301, 42.731, 75.32, 81.235, 79.829, 75.635, 64.062, 79.441, 56.728, 65.554, 74.852, 50.728, \n",
    "            72.39, 73.005,  52.295, 49.58, 59.723, 50.43, 80.653, 44.74100000000001, 50.651, 78.553, 72.961, 72.889, 65.152, \n",
    "            46.462, 55.322, 78.782,  48.328, 75.748, 78.273, 76.486, 78.332, 54.791, 72.235, 74.994, 71.33800000000002, 71.878, \n",
    "            51.57899999999999, 58.04, 52.947,  79.313, 80.657, 56.735, 59.448, 79.406, 60.022, 79.483, 70.259, 56.007, \n",
    "            46.38800000000001, 60.916, 70.19800000000001, 82.208,  73.33800000000002, 81.757, 64.69800000000001, 70.65, \n",
    "            70.964, 59.545, 78.885, 80.745, 80.546, 72.567, 82.603, 72.535, 54.11,  67.297, 78.623, 77.58800000000002, 71.993, \n",
    "            42.592, 45.678, 73.952, 59.44300000000001, 48.303, 74.241, 54.467, 64.164, 72.801,  76.195, 66.803, 74.543, \n",
    "            71.164, 42.082, 62.069, 52.90600000000001, 63.785, 79.762, 80.204, 72.899, 56.867, 46.859, 80.196,  75.64, 65.483, \n",
    "            75.53699999999998, 71.752, 71.421, 71.688, 75.563, 78.098, 78.74600000000002, 76.442, 72.476, 46.242, 65.528, \n",
    "            72.777, 63.062, 74.002, 42.56800000000001, 79.972, 74.663, 77.926, 48.159, 49.339, 80.941, 72.396, 58.556, 39.613, \n",
    "            80.884,  81.70100000000002, 74.143, 78.4, 52.517, 70.616, 58.42, 69.819, 73.923, 71.777, 51.542, 79.425, 78.242, \n",
    "            76.384, 73.747, 74.249, 73.422, 62.698, 42.38399999999999, 43.487]\n",
    "\n",
    "col = ['red', 'green', 'blue', 'blue', 'yellow', 'black', 'green', 'red', 'red', 'green', 'blue', 'yellow', 'green', 'blue', \n",
    "       'yellow', 'green', 'blue', 'blue', 'red', 'blue', 'yellow', 'blue', 'blue', 'yellow', 'red', 'yellow', 'blue', 'blue', \n",
    "       'blue', 'yellow', 'blue', 'green', 'yellow', 'green', 'green', 'blue', 'yellow', 'yellow', 'blue', 'yellow', 'blue', \n",
    "       'blue', 'blue', 'green', 'green', 'blue', 'blue', 'green', 'blue', 'green', 'yellow', 'blue', 'blue', 'yellow', \n",
    "       'yellow', 'red', 'green', 'green', 'red', 'red', 'red', 'red', 'green', 'red', 'green', 'yellow', 'red', 'red', 'blue', \n",
    "       'red', 'red', 'red', 'red', 'blue', 'blue', 'blue', 'blue', 'blue', 'red', 'blue', 'blue', 'blue', 'yellow', 'red', \n",
    "       'green', 'blue', 'blue', 'red', 'blue', 'red', 'green', 'black', 'yellow', 'blue', 'blue', 'green', 'red', 'red', \n",
    "       'yellow', 'yellow', 'yellow', 'red', 'green', 'green', 'yellow', 'blue', 'green', 'blue', 'blue', 'red', 'blue', \n",
    "       'green', 'blue', 'red', 'green', 'green', 'blue', 'blue', 'green', 'red', 'blue', 'blue', 'green', 'green', 'red', \n",
    "       'red', 'blue', 'red', 'blue', 'yellow', 'blue', 'green', 'blue', 'green', 'yellow', 'yellow', 'yellow', 'red', 'red', \n",
    "       'red', 'blue', 'blue']\n",
    "\n",
    "# make a quick plot showing the relationship between the two\n",
    "print('Simple plot:')\n",
    "plt.plot(year, pop)\n",
    "plt.show()\n",
    "print('\\n')\n",
    "plt.clf()  # clears plot from memory - prevents issues\n",
    "\n",
    "# now make a quick scatterplot (note - same output, different code in Cleaning module - they use plot and pass it a \"kind=\" arg)\n",
    "# can also change the scale of either x or y axis from linear to logarithmic using \"plt.xscale('log')\" or \"plt.yscale('log')\"\n",
    "print('Simple scatter plot:')\n",
    "plt.scatter(gdp_cap, life_exp)\n",
    "plt.show()\n",
    "plt.clf() # clears plot from memory - prevents issues\n",
    "print('\\n')\n",
    "\n",
    "# you can also make quick historgrams - not only one variable in a histogram, so modify beforehand if needed\n",
    "print('Simple histogram:')\n",
    "plt.hist(gdp_cap)\n",
    "plt.show()\n",
    "plt.clf() # clears plot from memory - prevents issues\n",
    "print('\\n')\n",
    "\n",
    "# note that default matplotlib historgrams have 10 bins, can change this by passing bins argument\n",
    "print('Historgram with 20 bins:')\n",
    "plt.hist(gdp_cap, bins=20)\n",
    "plt.show()\n",
    "plt.clf()\n",
    "print('\\n')\n",
    "\n",
    "# going to revist the first plot, but add some additional elements\n",
    "print('Same plot with title and labels')\n",
    "plt.plot(year,pop)\n",
    "plt.xlabel('Year')\n",
    "plt.ylabel('Global population')\n",
    "plt.title('Global pop by year')\n",
    "plt.show()\n",
    "plt.clf()\n",
    "print('\\n')\n",
    "\n",
    "# revisitng the scatter plot and adding some other elements - using size to highlight things of interest\n",
    "# going to use population from before, but want to make it more impactful by multiplying the effect\n",
    "#multiplying every item in a list? Bring in the numpy array!\n",
    "import numpy as np\n",
    "# convert population from a Python list to a numpy array\n",
    "print('Scatter plot showing use of size:')\n",
    "np_pop = np.array(pop)\n",
    "np_pop = np_pop * 2\n",
    "plt.scatter(gdp_cap, life_exp, s = np_pop)                # s argument means to use population to size each point of data\n",
    "plt.xscale('log')                                         # use logarithmic scale on x axis (rather than linear)\n",
    "plt.xlabel('GDP per Capita [in USD]')                     \n",
    "plt.ylabel('Life Expectancy [in years]')\n",
    "plt.title('World Development in 2007')\n",
    "plt.xticks([1000, 10000, 100000],['1k', '10k', '100k'])   # change the x axis datapoint labels\n",
    "plt.show()\n",
    "print('\\n')\n",
    "\n",
    "# now to build on the previousscatterplot to use colour\n",
    "print('Same scatter plot, but using a Python list of colours:')\n",
    "plt.scatter(x = gdp_cap, y = life_exp, s = np.array(pop) * 2, c = col, alpha = 0.8)\n",
    "plt.grid(True)                                            # turn on gridlines\n",
    "plt.show()"
   ]
  },
  {
   "cell_type": "markdown",
   "id": "floating-block",
   "metadata": {},
   "source": [
    "## Python dictionaries"
   ]
  },
  {
   "cell_type": "code",
   "execution_count": 2,
   "id": "continuous-testament",
   "metadata": {},
   "outputs": [
    {
     "name": "stdout",
     "output_type": "stream",
     "text": [
      "The keys in this dict are: dict_keys(['spain', 'france', 'germany', 'norway'])\n",
      "The values in this dict are: dict_values(['madrid', 'paris', 'berlin', 'oslo'])\n",
      "{'spain': 'madrid', 'france': 'paris', 'germany': 'berlin', 'norway': 'oslo', 'italy': 'rome'}\n"
     ]
    }
   ],
   "source": [
    "# Dictionaries are a specialised type of list that doesn't use intergers for indexes. Dictionaries are unordered collections of\n",
    "# key value pairs. Dictionaries are created using {} notation and : to separate key:value for each pair\n",
    "europe = {\"spain\":\"madrid\", \"france\":\"paris\", \"germany\":\"berlin\", \"norway\":\"oslo\"}\n",
    "\n",
    "# can use the .keys() and .values() methods to return only keys or values\n",
    "print('The keys in this dict are: ' + str(europe.keys()))\n",
    "print('The values in this dict are: ' + str(europe.values()))\n",
    "\n",
    "# can add new dict entries simply by assigning a value to a ney key - if you assign an existing key, changes value\n",
    "europe['italy'] = 'rome'\n",
    "print(europe)"
   ]
  },
  {
   "cell_type": "markdown",
   "id": "equivalent-spoke",
   "metadata": {},
   "source": [
    "## Time for pandas (working with dataframes ftw)"
   ]
  },
  {
   "cell_type": "code",
   "execution_count": 3,
   "id": "western-music",
   "metadata": {},
   "outputs": [
    {
     "name": "stdout",
     "output_type": "stream",
     "text": [
      "Our new pandas dataframe looks like: \n",
      "         country  drives_right  cars_per_cap\n",
      "0  United States          True           809\n",
      "1      Australia         False           731\n",
      "2          Japan         False           588\n",
      "3          India         False            18\n",
      "4         Russia          True           200\n",
      "5        Morocco          True            70\n",
      "6          Egypt          True            45\n",
      "\n",
      "\n",
      "Our dataframe with updated indexes:\n",
      "           country  drives_right  cars_per_cap\n",
      "US   United States          True           809\n",
      "AUS      Australia         False           731\n",
      "JAP          Japan         False           588\n",
      "IN           India         False            18\n",
      "RU          Russia          True           200\n",
      "MOR        Morocco          True            70\n",
      "EG           Egypt          True            45\n",
      "\n",
      "\n",
      "Printing as a Pandas series (using [] notation): \n",
      "US     United States\n",
      "AUS        Australia\n",
      "JAP            Japan\n",
      "IN             India\n",
      "RU            Russia\n",
      "MOR          Morocco\n",
      "EG             Egypt\n",
      "Name: country, dtype: object\n",
      "\n",
      "\n",
      "Printing as a dataframe using [[]] notation): \n",
      "           country\n",
      "US   United States\n",
      "AUS      Australia\n",
      "JAP          Japan\n",
      "IN           India\n",
      "RU          Russia\n",
      "MOR        Morocco\n",
      "EG           Egypt\n",
      "\n",
      "\n",
      "The records about Japan are: \n",
      "    country  drives_right  cars_per_cap\n",
      "JAP   Japan         False           588\n",
      "\n",
      "\n",
      "The records about the third indexed item are are: \n",
      "    country  drives_right  cars_per_cap\n",
      "JAP   Japan         False           588\n",
      "\n",
      "\n",
      "Dp Russia and Morocco drive on the right side of the road?\n",
      "     country  drives_right\n",
      "RU    Russia          True\n",
      "MOR  Morocco          True\n",
      "\n",
      "\n",
      "To return all records for cars per capita and drives on the right:\n",
      "     cars_per_cap  drives_right\n",
      "US            809          True\n",
      "AUS           731         False\n",
      "JAP           588         False\n",
      "IN             18         False\n",
      "RU            200          True\n",
      "MOR            70          True\n",
      "EG             45          True\n",
      "\n",
      "\n",
      "All of the rows for countries that drive on the right:\n",
      "           country  drives_right  cars_per_cap\n",
      "US   United States          True           809\n",
      "RU          Russia          True           200\n",
      "MOR        Morocco          True            70\n",
      "EG           Egypt          True            45\n"
     ]
    }
   ],
   "source": [
    "# lets get the pandas library\n",
    "import pandas as pd\n",
    "\n",
    "# and copy some example data from course to play with - just Python lists\n",
    "names = ['United States', 'Australia', 'Japan', 'India', 'Russia', 'Morocco', 'Egypt']\n",
    "dr =  [True, False, False, False, True, True, True]\n",
    "cpc = [809, 731, 588, 18, 200, 70, 45]\n",
    "\n",
    "# first, convert these three lists into a dictionary of dictionaries (a dict where each value is also a dict)\n",
    "my_dict = {'country':names, 'drives_right':dr, 'cars_per_cap':cpc}\n",
    "\n",
    "# finally, convert this dict of dict to a dataframe \n",
    "cars = pd.DataFrame(my_dict)\n",
    "print('Our new pandas dataframe looks like: ')\n",
    "print(cars)\n",
    "print('\\n')\n",
    "\n",
    "# note that it introduces an arbitrary interger index as a unique ID\n",
    "# if we want to make these something more meaninful, we can pass it a Python list to replace with\n",
    "cars.index = ['US', 'AUS', 'JAP', 'IN', 'RU', 'MOR', 'EG']\n",
    "print('Our dataframe with updated indexes:')\n",
    "print(cars)\n",
    "print('\\n')\n",
    "\n",
    "# while this is cool if we already have the data, it's not as useful as just importing from a tabular datafile like csv\n",
    "# for example, the Lets Go(card) project involved a lot of csv imports. To do that using pandas...\n",
    "# df = pd.read_csv('path/to/csv.csv')                        # leaving this commented out so I don't need to upload a sample csv\n",
    "# if your csv already has an ID to use in the first column, pass index_col=0 to prevent pandas from autogen index integer\n",
    "\n",
    "# one weird thing about pandas dataframes is that the default behavior for selecting/slicing observations is to return a \n",
    "# Pandas Series - note that it returns both index AND selection\n",
    "print('Printing as a Pandas series (using [] notation): ')\n",
    "print(cars['country'])\n",
    "print('\\n')\n",
    "\n",
    "# if you want to return your selection as a dataframe (and I usually do), use [[]] notation instead\n",
    "print('Printing as a dataframe using [[]] notation): ')\n",
    "print(cars[['country']])\n",
    "print('\\n')\n",
    "\n",
    "# if you want to subset based on index label (.loc) or index (.iloc()), pandas has some methods to use\n",
    "# select based on label\n",
    "print('The records about Japan are: ')\n",
    "print(cars.loc[['JAP']])\n",
    "print('\\n')\n",
    "\n",
    "print('The records about the third indexed item are are: ')\n",
    "print(cars.iloc[[2]])\n",
    "print('\\n')\n",
    "\n",
    "# for more granular selections, extend with another [] call\n",
    "print('Dp Russia and Morocco drive on the right side of the road?')\n",
    "print(cars.loc[[\"RU\",\"MOR\"], ['country', 'drives_right']])\n",
    "print('\\n')\n",
    "\n",
    "# if you want to just grab some whole columns, you need to use a slice (that is equiv to \"select all\") as follows:\n",
    "print('To return all records for cars per capita and drives on the right:')\n",
    "print(cars.loc[:,['cars_per_cap','drives_right']])\n",
    "print('\\n')\n",
    "\n",
    "# to select based on a variable within the dataframe\n",
    "sel = cars[cars['drives_right']]                          # for all rows with 'drives_right' = True, select from cars\n",
    "print('All of the rows for countries that drive on the right:')\n",
    "print(sel)"
   ]
  },
  {
   "cell_type": "markdown",
   "id": "extensive-queensland",
   "metadata": {},
   "source": [
    "## Boolean operators with numpy (not as simple as you'd like)"
   ]
  },
  {
   "cell_type": "code",
   "execution_count": 4,
   "id": "devoted-vietnamese",
   "metadata": {},
   "outputs": [
    {
     "name": "stdout",
     "output_type": "stream",
     "text": [
      "Which elements of my house are greater than 18.5 or smaller than 10? [False  True False  True]\n",
      "\n",
      "\n",
      "Where are both of our houses smaller than 11? [False False False  True]\n"
     ]
    }
   ],
   "source": [
    "# if you use and, or, not operators on a numpy array, it will attempt to do elementwise comparsion - not operate on the array\n",
    "# as a whole. To get around this, numpy has some methods to do and, not, or comparisons between arrays\n",
    "# import numpy\n",
    "import numpy as np\n",
    "\n",
    "# create some example arrays\n",
    "my_house = np.array([18.0, 20.0, 10.75, 9.50])\n",
    "your_house = np.array([14.0, 24.0, 14.25, 9.0])\n",
    "\n",
    "# or comparsions using np.logical_or\n",
    "print('Which elements of my house are greater than 18.5 or smaller than 10? ', end='')\n",
    "print(np.logical_or(my_house > 18.5, my_house < 10))\n",
    "print('\\n')\n",
    "\n",
    "# and comparsions using np.logical_and\n",
    "print('Where are both of our houses smaller than 11? ', end='')\n",
    "print(np.logical_and(my_house < 11, your_house < 11))"
   ]
  },
  {
   "cell_type": "markdown",
   "id": "together-polyester",
   "metadata": {},
   "source": [
    "## flow control (if, while, for loops) - not repeating most of this, covered in Automate the Boring Stuff"
   ]
  },
  {
   "cell_type": "code",
   "execution_count": 5,
   "id": "widespread-academy",
   "metadata": {},
   "outputs": [
    {
     "name": "stdout",
     "output_type": "stream",
     "text": [
      "the capital of spain is madrid\n",
      "the capital of france is paris\n",
      "the capital of germany is berlin\n",
      "the capital of norway is oslo\n",
      "the capital of italy is rome\n",
      "the capital of poland is warsaw\n",
      "the capital of austria is vienna\n",
      "\n",
      "\n",
      "12, I guess?\n",
      "57, I guess?\n",
      "35, I guess?\n",
      "85, I guess?\n",
      "24, I guess?\n",
      "89, I guess?\n",
      "88, I guess?\n",
      "43, I guess?\n",
      "\n",
      "\n",
      "74\n",
      "180\n",
      "74\n",
      "215\n",
      "72\n",
      "210\n",
      "75\n",
      "205\n",
      "75\n",
      "190\n",
      "73\n",
      "195\n"
     ]
    }
   ],
   "source": [
    "# there's some cool, flexibile way to iterate over dictionaries\n",
    "# sample dict from course\n",
    "europe = {'spain':'madrid', 'france':'paris', 'germany':'berlin',\n",
    "          'norway':'oslo', 'italy':'rome', 'poland':'warsaw', 'austria':'vienna' }\n",
    "\n",
    "# do something with every key and value in the dict using a for loop - not the use of the .items() method to access the entries\n",
    "for k, v in europe.items():\n",
    "    print('the capital of ' + str(k) + ' is ' + str(v))\n",
    "print('\\n')\n",
    "\n",
    "# although looping on numpy arrays is different depending on whether it's a 1d or 2d array\n",
    "# import numpy\n",
    "import numpy as np\n",
    "\n",
    "# lets show off the normal numpy array\n",
    "# create a quick Python list\n",
    "oned_list = [12,57,35,85,24,89,88,43]\n",
    "#convert to a numpy array\n",
    "oned_np = np.array(oned_list)\n",
    "for numbers in oned_np:\n",
    "    print(str(numbers) + ', I guess?')\n",
    "print('\\n')\n",
    "\n",
    "# now lets show off a 2d numpy array\n",
    "# create a quick list of lists\n",
    "twod_list = ([[ 74, 180], [ 74, 215], [ 72, 210], [ 75, 205], [75, 190], [ 73, 195]])\n",
    "# convert to a 2d numpy array\n",
    "twod_np = np.array(twod_list)\n",
    "for x in np.nditer(twod_np):                        # note the use of the .nditer() method to access variables directly\n",
    "    print(x)"
   ]
  },
  {
   "cell_type": "markdown",
   "id": "robust-british",
   "metadata": {},
   "source": [
    "## flow control with pandas dataframes"
   ]
  },
  {
   "cell_type": "code",
   "execution_count": 6,
   "id": "several-examination",
   "metadata": {},
   "outputs": [
    {
     "name": "stdout",
     "output_type": "stream",
     "text": [
      "The label of this row is: 0\n",
      "The data for this row is: \n",
      "country         United States\n",
      "drives_right             True\n",
      "cars_per_cap              809\n",
      "Name: 0, dtype: object\n",
      "\n",
      "\n",
      "The label of this row is: 1\n",
      "The data for this row is: \n",
      "country         Australia\n",
      "drives_right        False\n",
      "cars_per_cap          731\n",
      "Name: 1, dtype: object\n",
      "\n",
      "\n",
      "The label of this row is: 2\n",
      "The data for this row is: \n",
      "country         Japan\n",
      "drives_right    False\n",
      "cars_per_cap      588\n",
      "Name: 2, dtype: object\n",
      "\n",
      "\n",
      "The label of this row is: 3\n",
      "The data for this row is: \n",
      "country         India\n",
      "drives_right    False\n",
      "cars_per_cap       18\n",
      "Name: 3, dtype: object\n",
      "\n",
      "\n",
      "The label of this row is: 4\n",
      "The data for this row is: \n",
      "country         Russia\n",
      "drives_right      True\n",
      "cars_per_cap       200\n",
      "Name: 4, dtype: object\n",
      "\n",
      "\n",
      "The label of this row is: 5\n",
      "The data for this row is: \n",
      "country         Morocco\n",
      "drives_right       True\n",
      "cars_per_cap         70\n",
      "Name: 5, dtype: object\n",
      "\n",
      "\n",
      "The label of this row is: 6\n",
      "The data for this row is: \n",
      "country         Egypt\n",
      "drives_right     True\n",
      "cars_per_cap       45\n",
      "Name: 6, dtype: object\n",
      "\n",
      "\n",
      "Now for some values:\n",
      "0: 809\n",
      "1: 731\n",
      "2: 588\n",
      "3: 18\n",
      "4: 200\n",
      "5: 70\n",
      "6: 45\n",
      "\n",
      "\n",
      "Dataframe with an added column with all caps: \n",
      "         country  drives_right  cars_per_cap        COUNTRY\n",
      "0  United States          True           809  UNITED STATES\n",
      "1      Australia         False           731      AUSTRALIA\n",
      "2          Japan         False           588          JAPAN\n",
      "3          India         False            18          INDIA\n",
      "4         Russia          True           200         RUSSIA\n",
      "5        Morocco          True            70        MOROCCO\n",
      "6          Egypt          True            45          EGYPT\n"
     ]
    }
   ],
   "source": [
    "# lets get the pandas library\n",
    "import pandas as pd\n",
    "\n",
    "# and copy some example data from course to play with - just Python lists\n",
    "names = ['United States', 'Australia', 'Japan', 'India', 'Russia', 'Morocco', 'Egypt']\n",
    "dr =  [True, False, False, False, True, True, True]\n",
    "cpc = [809, 731, 588, 18, 200, 70, 45]\n",
    "\n",
    "# first, convert these three lists into a dictionary of dictionaries (a dict where each value is also a dict)\n",
    "my_dict = {'country':names, 'drives_right':dr, 'cars_per_cap':cpc}\n",
    "\n",
    "# finally, convert this dict of dict to a dataframe \n",
    "cars = pd.DataFrame(my_dict)\n",
    "\n",
    "# now, to access our cars dataframe in a for loop, we can do\n",
    "for lab, row in cars.iterrows():                              # note use of the .iterrows() method to access data.\n",
    "    print('The label of this row is: ' + str(lab)) \n",
    "    print('The data for this row is: ')\n",
    "    print(row)\n",
    "    print('\\n')\n",
    "# note that this is returning a pandas series for row - use [] notation to access the values inside the series\n",
    "print('Now for some values:')\n",
    "for lab, row in cars.iterrows() :\n",
    "    print(str(lab) + ': ' + str(row['cars_per_cap']))\n",
    "print('\\n')\n",
    "\n",
    "# another example is to add a new column to a dataframe based on a value in each row\n",
    "# we can do it using a for loop to do each row one at a time (commented out because better method after)\n",
    "#for lab, row in cars.iterrows():\n",
    "#    cars.loc[lab, 'COUNTRY'] = row['country'].upper()\n",
    "\n",
    "# can also do the same thing using the .apply() method - it applies to each row of the dataframe by calling a for loop invisibly\n",
    "cars['COUNTRY'] = cars['country'].apply(str.upper)\n",
    "print('Dataframe with an added column with all caps: ')\n",
    "print(cars)"
   ]
  },
  {
   "cell_type": "markdown",
   "id": "heated-boating",
   "metadata": {},
   "source": [
    "## Random numbers using numpy"
   ]
  },
  {
   "cell_type": "code",
   "execution_count": 7,
   "id": "threatened-porter",
   "metadata": {},
   "outputs": [
    {
     "name": "stdout",
     "output_type": "stream",
     "text": [
      "Here's a random float between 0 and 1: 0.6964691855978616\n",
      "\n",
      "\n",
      "Here's a random integer between 1 and 6: 3\n"
     ]
    }
   ],
   "source": [
    "# you can use the n.random. method class to generate random flaots and ints\n",
    "# import numpy\n",
    "import numpy as np\n",
    "\n",
    "# set the random seed - important for reproducible results! \n",
    "np.random.seed(123)\n",
    "\n",
    "# generate a random float (default is between 0 and 1)\n",
    "print('Here\\'s a random float between 0 and 1: ' + str(np.random.rand()))\n",
    "print('\\n')\n",
    "\n",
    "# just as easy to generate a random integer - takes two arguments - first is starting point, second is (exclusive) end point\n",
    "print('Here\\'s a random integer between 1 and 6: ' + str(np.random.randint(1,7)))\n",
    "\n",
    "# note - rerunning this code in a new instance and the same seed will give the same random number\n",
    "# note - second argument of the .randint() method won't ever be selected - use a number one higher than the max you expect"
   ]
  },
  {
   "cell_type": "markdown",
   "id": "violent-mortality",
   "metadata": {},
   "source": [
    "# end of subject wrap-up - probability of random walk based on coin tosses"
   ]
  },
  {
   "cell_type": "markdown",
   "id": "molecular-academy",
   "metadata": {},
   "source": [
    "The challenge was to use a bunch of the concepts learnt in these courses to produce code that calculates the probability that someone will end up on floor 60 (or above) of a building if:\n",
    "\n",
    "you start on floor 1\n",
    "you roll a dice 100 times.\n",
    "Every time you roll a 1-2, you go down a floor\n",
    "every time you roll a 3-5, you go up a floor\n",
    "every time you roll a 6, you roll again and go up that number of floors\n",
    "you can't go lower than the floor you first started on\n",
    "0.1% of the trip and fall down to the starting floor"
   ]
  },
  {
   "cell_type": "code",
   "execution_count": 8,
   "id": "public-output",
   "metadata": {},
   "outputs": [
    {
     "data": {
      "image/png": "[encoded data removed]",
      "text/plain": [
       "<Figure size 432x288 with 1 Axes>"
      ]
     },
     "metadata": {
      "needs_background": "light"
     },
     "output_type": "display_data"
    }
   ],
   "source": [
    "import matplotlib.pyplot as plt\n",
    "import numpy as np\n",
    "np.random.seed(123)\n",
    "all_walks = []                                             # set up an empty list for the random walk\n",
    "\n",
    "# Simulate random walk 500 times - using 500 to give better %s of success than using 100. Bigger numbers = better, gets closer\n",
    "# to the theoretical answer =p\n",
    "for i in range(500) :\n",
    "    random_walk = [0]                                      # random_walk starts at group floor for each attempt\n",
    "    for x in range(100) :\n",
    "        step = random_walk[-1]                             # get the latest step (ie the floor you're on now)\n",
    "        dice = np.random.randint(1,7)\n",
    "        if dice <= 2:\n",
    "            step = max(0, step - 1)         # use of max() is to prevent going below 0 - if step - 1 is less than 0, use 0\n",
    "        elif dice <= 5:\n",
    "            step = step + 1\n",
    "        else:\n",
    "            step = step + np.random.randint(1,7)\n",
    "        if np.random.rand() <= 0.001 :                      # random chance of trippng back to first floor\n",
    "            step = 0\n",
    "        random_walk.append(step)                            # add the new floor to the random walk\n",
    "    all_walks.append(random_walk)                           # at the end of each random walk, add the final floor to the tally\n",
    "\n",
    "# Create and plot np_aw_t\n",
    "np_aw_t = np.transpose(np.array(all_walks))                 # transpose casts the column of walks to a row of walks (I think?)\n",
    "\n",
    "# Select last row from np_aw_t: ends\n",
    "ends = np_aw_t[-1]                                          # will get the row of all final positions\n",
    "\n",
    "# Plot histogram of ends, display plot\n",
    "plt.hist(ends)\n",
    "plt.show()"
   ]
  },
  {
   "cell_type": "code",
   "execution_count": null,
   "id": "individual-continuity",
   "metadata": {},
   "outputs": [],
   "source": []
  }
 ],
 "metadata": {
  "kernelspec": {
   "display_name": "Python 3",
   "language": "python",
   "name": "python3"
  },
  "language_info": {
   "codemirror_mode": {
    "name": "ipython",
    "version": 3
   },
   "file_extension": ".py",
   "mimetype": "text/x-python",
   "name": "python",
   "nbconvert_exporter": "python",
   "pygments_lexer": "ipython3",
   "version": "3.7.10"
  }
 },
 "nbformat": 4,
 "nbformat_minor": 5
}
