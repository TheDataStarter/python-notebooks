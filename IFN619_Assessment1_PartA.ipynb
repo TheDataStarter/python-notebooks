{
 "cells": [
  {
   "cell_type": "markdown",
   "id": "sound-costa",
   "metadata": {
    "deletable": false,
    "editable": false,
    "nbgrader": {
     "cell_type": "markdown",
     "checksum": "7e57cf9e477094f5ea161a757d62b786",
     "grade": false,
     "grade_id": "cell-52d1c05618afd0f1",
     "locked": true,
     "schema_version": 3,
     "solution": false,
     "task": false
    }
   },
   "source": [
    "# IFN619 - Assessment 1 - Part A\n",
    "\n",
    "Answer the questions below to demonstrate your understand of foundational techniques. Each question relates to a technique that has been addressed in the first 4 modules.\n",
    "\n",
    "Each question will be marked separately, so if you are unsure about a question, simply try to answer it with your best possible attempt. You can run the *test* cells (after each answer cell) to check for simple errors.\n",
    "\n",
    "<span style=\"color:red;\">__DO NOT ADD OR REMOVE ANY CELL BLOCKS. PROVIDE YOUR ANSWERS IN THE INDICATED SPACES ONLY, AND DO NOT DELETE THE ### LINES.__</span>"
   ]
  },
  {
   "cell_type": "markdown",
   "id": "together-shuttle",
   "metadata": {
    "deletable": false,
    "editable": false,
    "nbgrader": {
     "cell_type": "markdown",
     "checksum": "ec0afe3f66eb134d7b9ea947a28ecb00",
     "grade": false,
     "grade_id": "q1",
     "locked": true,
     "schema_version": 3,
     "solution": false,
     "task": false
    }
   },
   "source": [
    "## 1. Read a CSV file\n",
    "\n",
    "After importing the required dataframes library as `pd`, read the contents of file `mountain_heights.csv` into a dataframe called `mountain_heights`. Use the mountain code for the index of the dataframe. Using a dataframe property, output the dataframe's rows and columns in the format `(rows,cols)`. \n",
    "\n",
    "**This solution requires 3 lines of code.**"
   ]
  },
  {
   "cell_type": "code",
   "execution_count": null,
   "id": "baking-material",
   "metadata": {
    "deletable": false,
    "nbgrader": {
     "cell_type": "code",
     "checksum": "8f745924d7834e86ef38c33b1d944920",
     "grade": false,
     "grade_id": "q1-answer",
     "locked": false,
     "schema_version": 3,
     "solution": true,
     "task": false
    }
   },
   "outputs": [],
   "source": [
    "# YOUR CODE HERE\n",
    "raise NotImplementedError()"
   ]
  },
  {
   "cell_type": "code",
   "execution_count": null,
   "id": "recorded-capture",
   "metadata": {
    "deletable": false,
    "editable": false,
    "nbgrader": {
     "cell_type": "code",
     "checksum": "96ff1e4093f4f832b8e1e4349dbed7fd",
     "grade": true,
     "grade_id": "q1-tests",
     "locked": true,
     "points": 1,
     "schema_version": 3,
     "solution": false,
     "task": false
    }
   },
   "outputs": [],
   "source": [
    "\"Check that the dataframe has been loaded and rows and columns output\"\n",
    "assert(type(mountain_heights)==type(pd.DataFrame()))\n",
    "assert(_==(10,4))\n"
   ]
  },
  {
   "cell_type": "markdown",
   "id": "exotic-ireland",
   "metadata": {
    "deletable": false,
    "editable": false,
    "nbgrader": {
     "cell_type": "markdown",
     "checksum": "8e37690178190a14fa27f3e1aec24d37",
     "grade": false,
     "grade_id": "q2",
     "locked": true,
     "schema_version": 3,
     "solution": false,
     "task": false
    }
   },
   "source": [
    "## 2. Fix missing data\n",
    "\n",
    "Using a single line of code, assign the string `Antarctica` to the appropriate cell of the dataframe by using the index and column labels."
   ]
  },
  {
   "cell_type": "code",
   "execution_count": null,
   "id": "descending-louis",
   "metadata": {
    "deletable": false,
    "nbgrader": {
     "cell_type": "code",
     "checksum": "95bde43f7eb42486a7876b79adf4da7e",
     "grade": false,
     "grade_id": "q2-answer",
     "locked": false,
     "schema_version": 3,
     "solution": true,
     "task": false
    }
   },
   "outputs": [],
   "source": [
    "# YOUR CODE HERE\n",
    "raise NotImplementedError()"
   ]
  },
  {
   "cell_type": "code",
   "execution_count": null,
   "id": "prostate-national",
   "metadata": {
    "deletable": false,
    "editable": false,
    "nbgrader": {
     "cell_type": "code",
     "checksum": "7fc539433e13ce713be0abf9f7e03125",
     "grade": true,
     "grade_id": "q2-tests",
     "locked": true,
     "points": 1,
     "schema_version": 3,
     "solution": false,
     "task": false
    }
   },
   "outputs": [],
   "source": [
    "\"Check that there are no NaN cells\"\n",
    "assert(mountain_heights['Country'].isnull().values.any()==False)\n"
   ]
  },
  {
   "cell_type": "markdown",
   "id": "accepted-progress",
   "metadata": {
    "deletable": false,
    "editable": false,
    "nbgrader": {
     "cell_type": "markdown",
     "checksum": "76f758989af6b66e1347c17665d8dafd",
     "grade": false,
     "grade_id": "q3",
     "locked": true,
     "schema_version": 3,
     "solution": false,
     "task": false
    }
   },
   "source": [
    "## 3. Finding significant data\n",
    "\n",
    "Find the mountains that are higher than the average height of all mountains in the data. Start by getting the mean and assigning it to a variable called `mean_height`. Using the format `df[c]>x` as the conditional for the rows, create a new dataframe called `highest_mountains` which have heights greater than the mean. Without using `print()`, display the value of mean_height in the output of the cell.\n",
    "\n",
    "**This solution requires 3 lines of code**\n"
   ]
  },
  {
   "cell_type": "code",
   "execution_count": null,
   "id": "injured-guess",
   "metadata": {
    "deletable": false,
    "nbgrader": {
     "cell_type": "code",
     "checksum": "c21d5cd5b210bae9cbb2367a57db8915",
     "grade": false,
     "grade_id": "q3-answer",
     "locked": false,
     "schema_version": 3,
     "solution": true,
     "task": false
    }
   },
   "outputs": [],
   "source": [
    "# YOUR CODE HERE\n",
    "raise NotImplementedError()"
   ]
  },
  {
   "cell_type": "code",
   "execution_count": null,
   "id": "stylish-circulation",
   "metadata": {
    "deletable": false,
    "editable": false,
    "nbgrader": {
     "cell_type": "code",
     "checksum": "6e1cebe9d7c43f604466905ca6affb2d",
     "grade": true,
     "grade_id": "q3-tests",
     "locked": true,
     "points": 1,
     "schema_version": 3,
     "solution": false,
     "task": false
    }
   },
   "outputs": [],
   "source": [
    "\"Check highest_mountains shape, and output of cell\"\n",
    "assert(highest_mountains.shape==(3,4))\n",
    "assert(_==6060.9)\n"
   ]
  },
  {
   "cell_type": "markdown",
   "id": "considerable-evidence",
   "metadata": {
    "deletable": false,
    "editable": false,
    "nbgrader": {
     "cell_type": "markdown",
     "checksum": "c4ffb386b6238b00a5a2a4863f21e218",
     "grade": false,
     "grade_id": "q4",
     "locked": true,
     "schema_version": 3,
     "solution": false,
     "task": false
    }
   },
   "source": [
    "## 4. Visualise\n",
    "\n",
    "First, sort the `mountain_heights` dataframe by height in descending order and assign the result to a dataframe called `mountains_sorted`. Use a single line of code.\n",
    "\n",
    "Then in a second single line of code, create a bar chart of the `mountains_sorted` dataframe. Assign the result of the plot to a variable called `mplot`, and include the following information:\n",
    "\n",
    "* Title: Mountain Heights\n",
    "* X Axis label: Mountain Code\n",
    "* Y Axis label: Height (m)\n"
   ]
  },
  {
   "cell_type": "code",
   "execution_count": null,
   "id": "requested-austin",
   "metadata": {
    "deletable": false,
    "nbgrader": {
     "cell_type": "code",
     "checksum": "ced45c7b908978218313c71461e10695",
     "grade": false,
     "grade_id": "q4-answer",
     "locked": false,
     "schema_version": 3,
     "solution": true,
     "task": false
    }
   },
   "outputs": [],
   "source": [
    "# YOUR CODE HERE\n",
    "raise NotImplementedError()"
   ]
  },
  {
   "cell_type": "code",
   "execution_count": null,
   "id": "adaptive-wesley",
   "metadata": {
    "deletable": false,
    "editable": false,
    "nbgrader": {
     "cell_type": "code",
     "checksum": "18339ec4b2c7cac0f194bd3d9a6d61db",
     "grade": true,
     "grade_id": "q4-tests",
     "locked": true,
     "points": 1,
     "schema_version": 3,
     "solution": false,
     "task": false
    }
   },
   "outputs": [],
   "source": [
    "\"Check mountains_sorted, and that a chart has been created\"\n",
    "assert(list(mountains_sorted.index) == ['EVR', 'ACG', 'DNL', 'LGN', 'KLM', 'CRC', 'ELB', 'ORZ', 'VNM', 'JAY'])\n",
    "assert(type(mplot).__name__=='AxesSubplot')\n"
   ]
  },
  {
   "cell_type": "markdown",
   "id": "greatest-wheel",
   "metadata": {
    "deletable": false,
    "editable": false,
    "nbgrader": {
     "cell_type": "markdown",
     "checksum": "73ee8aa5787354d10b988f1eaf383f2f",
     "grade": false,
     "grade_id": "q5",
     "locked": true,
     "schema_version": 3,
     "solution": false,
     "task": false
    }
   },
   "source": [
    "## 5. Read a text file\n",
    "\n",
    "Using the format `with open('myfile','r') as file:`, read the contents of file `system.log` into a single string and assign it to a variable called `syslog`. Display the contents of the variable in the output of the cell."
   ]
  },
  {
   "cell_type": "code",
   "execution_count": null,
   "id": "later-junction",
   "metadata": {
    "deletable": false,
    "nbgrader": {
     "cell_type": "code",
     "checksum": "32c13b7b7bc11ae9e2e86c595b41b6b8",
     "grade": false,
     "grade_id": "q5-answer",
     "locked": false,
     "schema_version": 3,
     "solution": true,
     "task": false
    }
   },
   "outputs": [],
   "source": [
    "# YOUR CODE HERE\n",
    "raise NotImplementedError()"
   ]
  },
  {
   "cell_type": "code",
   "execution_count": null,
   "id": "satisfactory-affairs",
   "metadata": {
    "deletable": false,
    "editable": false,
    "nbgrader": {
     "cell_type": "code",
     "checksum": "207b40ea9505f8916f819c0a7e85a5d6",
     "grade": true,
     "grade_id": "q5-tests",
     "locked": true,
     "points": 1,
     "schema_version": 3,
     "solution": false,
     "task": false
    }
   },
   "outputs": [],
   "source": [
    "\"Check reading using file\"\n",
    "import io\n",
    "assert(type(file)==type(io.TextIOWrapper(io.BytesIO())))\n",
    "\"Check read as string\"\n",
    "assert(type(syslog)==type(\"\"))\n"
   ]
  },
  {
   "cell_type": "markdown",
   "id": "innovative-waste",
   "metadata": {
    "deletable": false,
    "editable": false,
    "nbgrader": {
     "cell_type": "markdown",
     "checksum": "aedf7460ad92ec55f32138b13ceec305",
     "grade": false,
     "grade_id": "q6",
     "locked": true,
     "schema_version": 3,
     "solution": false,
     "task": false
    }
   },
   "source": [
    "## 6. Structure text\n",
    "\n",
    "Using the `syslog` string, create a list with each line being an element of the list. Ensure that lines do not include any newline characters. Assign the list to a variable called `sysloglist`. Iterate over this list and for each entry, create a list of date, time, code, and message. For example: `['2021-03-01','17:00:00','INFO','System startup complete']`. Add each created list to a new list called `syslogtable`. After iterating over `sysloglist`, the `syslogtable` should be a list of lists. Display this in the output of the cell."
   ]
  },
  {
   "cell_type": "code",
   "execution_count": null,
   "id": "addressed-fighter",
   "metadata": {
    "deletable": false,
    "nbgrader": {
     "cell_type": "code",
     "checksum": "e6cf095ddbbe1589bb8836f5809b9511",
     "grade": false,
     "grade_id": "q6-answer",
     "locked": false,
     "schema_version": 3,
     "solution": true,
     "task": false
    }
   },
   "outputs": [],
   "source": [
    "# YOUR CODE HERE\n",
    "raise NotImplementedError()"
   ]
  },
  {
   "cell_type": "code",
   "execution_count": null,
   "id": "junior-edinburgh",
   "metadata": {
    "deletable": false,
    "editable": false,
    "nbgrader": {
     "cell_type": "code",
     "checksum": "5c61c9c4a3f6b56a237ce06cc20f11ae",
     "grade": true,
     "grade_id": "q6-tests",
     "locked": true,
     "points": 1,
     "schema_version": 3,
     "solution": false,
     "task": false
    }
   },
   "outputs": [],
   "source": [
    "\"check list created without newlines\"\n",
    "assert(len(sysloglist)==9)\n",
    "assert('\\n' not in sysloglist)\n",
    "\"check table displayed\"\n",
    "table = _\n",
    "assert(len(table)==9)\n",
    "assert(len(table[8])==4)\n"
   ]
  },
  {
   "cell_type": "markdown",
   "id": "particular-nightlife",
   "metadata": {
    "deletable": false,
    "editable": false,
    "nbgrader": {
     "cell_type": "markdown",
     "checksum": "eb3ab1cc1fb9185d75d389448c7dc0c1",
     "grade": false,
     "grade_id": "q7",
     "locked": true,
     "schema_version": 3,
     "solution": false,
     "task": false
    }
   },
   "source": [
    "## 7. Convert to JSON\n",
    "\n",
    "Create a list called `headings` with the strings `date`, `time`, `code`, and `message` corresponding to the values in the `syslogtable`. Get the 7th entry of syslog table and turn it into a dictionary with the headings as keys. Assign it to a variable called `syslogentry`. Hint: use the zip function `dict(zip(keys,values))`. Convert the dictionary to a JSON string using the `json` library. Call the result `jsonentry` and display in the output of the cell.\n"
   ]
  },
  {
   "cell_type": "code",
   "execution_count": null,
   "id": "annoying-marble",
   "metadata": {
    "deletable": false,
    "nbgrader": {
     "cell_type": "code",
     "checksum": "4b8488bb1e736d557901161c2c9896aa",
     "grade": false,
     "grade_id": "q7-answer",
     "locked": false,
     "schema_version": 3,
     "solution": true,
     "task": false
    }
   },
   "outputs": [],
   "source": [
    "# YOUR CODE HERE\n",
    "raise NotImplementedError()"
   ]
  },
  {
   "cell_type": "code",
   "execution_count": null,
   "id": "active-acrylic",
   "metadata": {
    "deletable": false,
    "editable": false,
    "nbgrader": {
     "cell_type": "code",
     "checksum": "b11d3b5260a457ac8912f29ff8a54230",
     "grade": true,
     "grade_id": "q7-tests",
     "locked": true,
     "points": 1,
     "schema_version": 3,
     "solution": false,
     "task": false
    }
   },
   "outputs": [],
   "source": [
    "\"Check headings, syslogentry and jsonentry\"\n",
    "assert(len(headings)==4)\n",
    "assert(type(syslogentry)==type({}))\n",
    "assert(type(jsonentry)==type(\"\"))"
   ]
  },
  {
   "cell_type": "markdown",
   "id": "forty-transport",
   "metadata": {
    "deletable": false,
    "editable": false,
    "nbgrader": {
     "cell_type": "markdown",
     "checksum": "c220ce9da82e4774638cdbbb965a306d",
     "grade": false,
     "grade_id": "q8",
     "locked": true,
     "schema_version": 3,
     "solution": false,
     "task": false
    }
   },
   "source": [
    "## 8. Read a JSON file\n",
    "\n",
    "Using the `url` below and the `requests` library, get data from the server and read it into a dictionary called `jupyterdata`. Display in the output of this cell a string with the format `version: value` where `value` is the value in the dictionary corresponding to the key `version`."
   ]
  },
  {
   "cell_type": "code",
   "execution_count": null,
   "id": "sacred-panic",
   "metadata": {
    "deletable": false,
    "nbgrader": {
     "cell_type": "code",
     "checksum": "331a383c8e16caf6648a9668c71a3ed0",
     "grade": false,
     "grade_id": "q8-answer",
     "locked": false,
     "schema_version": 3,
     "solution": true,
     "task": false
    }
   },
   "outputs": [],
   "source": [
    "url = \"https://jupyter-oncampus.qutanalytics.io/hub/api\"\n",
    "# YOUR CODE HERE\n",
    "raise NotImplementedError()"
   ]
  },
  {
   "cell_type": "code",
   "execution_count": null,
   "id": "large-elevation",
   "metadata": {
    "deletable": false,
    "editable": false,
    "nbgrader": {
     "cell_type": "code",
     "checksum": "7ff72ddba0f4d41082934b903ce4a349",
     "grade": true,
     "grade_id": "q8-tests",
     "locked": true,
     "points": 1,
     "schema_version": 3,
     "solution": false,
     "task": false
    }
   },
   "outputs": [],
   "source": [
    "\"Check jupyterdata\"\n",
    "assert(type(jupyterdata)==type({}))"
   ]
  },
  {
   "cell_type": "markdown",
   "id": "altered-component",
   "metadata": {
    "deletable": false,
    "editable": false,
    "nbgrader": {
     "cell_type": "markdown",
     "checksum": "55e3dee4b34a4db3f63f2abdb347b9a8",
     "grade": false,
     "grade_id": "q9",
     "locked": true,
     "schema_version": 3,
     "solution": false,
     "task": false
    }
   },
   "source": [
    "## 9. Create a function\n",
    "\n",
    "Create a function called `get_json()` that when passed a URL, returns a dictionary created from the resulting JSON retrieved from that URL. For the purposes of this task, the function should work the url from question 8. Run the function to output the version of this server."
   ]
  },
  {
   "cell_type": "code",
   "execution_count": null,
   "id": "celtic-hobby",
   "metadata": {
    "deletable": false,
    "nbgrader": {
     "cell_type": "code",
     "checksum": "9fba25361ca8cd19fe526136b6b28e55",
     "grade": false,
     "grade_id": "q9-answer",
     "locked": false,
     "schema_version": 3,
     "solution": true,
     "task": false
    }
   },
   "outputs": [],
   "source": [
    "# YOUR CODE HERE\n",
    "raise NotImplementedError()"
   ]
  },
  {
   "cell_type": "code",
   "execution_count": null,
   "id": "surprised-swiss",
   "metadata": {
    "deletable": false,
    "editable": false,
    "nbgrader": {
     "cell_type": "code",
     "checksum": "8ecbe7026977573deb76d933f6d438c7",
     "grade": true,
     "grade_id": "q9-tests",
     "locked": true,
     "points": 1,
     "schema_version": 3,
     "solution": false,
     "task": false
    }
   },
   "outputs": [],
   "source": [
    "\"Check function returns value from url\"\n",
    "assert(get_json(url)['version']=='1.3.0')"
   ]
  },
  {
   "cell_type": "markdown",
   "id": "diagnostic-vietnam",
   "metadata": {
    "deletable": false,
    "editable": false,
    "nbgrader": {
     "cell_type": "markdown",
     "checksum": "fa3b903351e4a9ad9a1bd9b9d2c90172",
     "grade": false,
     "grade_id": "q10",
     "locked": true,
     "schema_version": 3,
     "solution": false,
     "task": false
    }
   },
   "source": [
    "## 10. Save JSON to file\n",
    "\n",
    "Create a modified version of your `get_json()` function to save the resulting JSON data to a file called `output.json`. Call the function `save_json()` (Note: It should accept the URL as before)."
   ]
  },
  {
   "cell_type": "code",
   "execution_count": null,
   "id": "toxic-function",
   "metadata": {
    "deletable": false,
    "nbgrader": {
     "cell_type": "code",
     "checksum": "21f859efcfcf0469907b1b9e351cf766",
     "grade": false,
     "grade_id": "q10-answer",
     "locked": false,
     "schema_version": 3,
     "solution": true,
     "task": false
    }
   },
   "outputs": [],
   "source": [
    "# YOUR CODE HERE\n",
    "raise NotImplementedError()"
   ]
  },
  {
   "cell_type": "code",
   "execution_count": null,
   "id": "armed-theta",
   "metadata": {
    "deletable": false,
    "editable": false,
    "nbgrader": {
     "cell_type": "code",
     "checksum": "82b20ba176229d65c2053f21a07340c7",
     "grade": true,
     "grade_id": "q10-tests",
     "locked": true,
     "points": 1,
     "schema_version": 3,
     "solution": false,
     "task": false
    }
   },
   "outputs": [],
   "source": [
    "\"Check function, and that file is created after running\"\n",
    "assert(callable(save_json))\n",
    "import os.path\n",
    "save_json(url)\n",
    "assert(os.path.isfile('output.json'))\n",
    "with open('output.json','r') as checkfile:\n",
    "    check = json.loads(checkfile.read())\n",
    "assert(check=={'version': '1.3.0'})"
   ]
  }
 ],
 "metadata": {
  "kernelspec": {
   "display_name": "Python 3",
   "language": "python",
   "name": "python3"
  },
  "language_info": {
   "codemirror_mode": {
    "name": "ipython",
    "version": 3
   },
   "file_extension": ".py",
   "mimetype": "text/x-python",
   "name": "python",
   "nbconvert_exporter": "python",
   "pygments_lexer": "ipython3",
   "version": "3.8.8"
  }
 },
 "nbformat": 4,
 "nbformat_minor": 5
}
